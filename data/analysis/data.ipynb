{
 "cells": [
  {
   "metadata": {
    "ExecuteTime": {
     "end_time": "2024-11-05T22:58:46.507754Z",
     "start_time": "2024-11-05T22:58:45.662366Z"
    }
   },
   "cell_type": "code",
   "source": [
    "import os\n",
    "from collections import defaultdict\n",
    "import re\n",
    "import csv\n",
    "\n",
    "import pandas as pd\n",
    "from tqdm import tqdm\n",
    "import matplotlib.pyplot as plt"
   ],
   "id": "initial_id",
   "outputs": [],
   "execution_count": 1
  },
  {
   "metadata": {
    "ExecuteTime": {
     "end_time": "2024-11-05T22:59:05.796606Z",
     "start_time": "2024-11-05T22:59:05.792254Z"
    }
   },
   "cell_type": "code",
   "source": [
    "csv_dir = \"../raw_data\"\n",
    "files = os.listdir(csv_dir)"
   ],
   "id": "8ad731e898cdf20a",
   "outputs": [],
   "execution_count": 5
  },
  {
   "metadata": {
    "ExecuteTime": {
     "end_time": "2024-11-05T22:59:36.553819Z",
     "start_time": "2024-11-05T22:59:08.570481Z"
    }
   },
   "cell_type": "code",
   "source": [
    "a_char_counts = defaultdict(int)\n",
    "q_char_counts = defaultdict(int)\n",
    "a_chars = set()\n",
    "q_chars = set()\n",
    "for file in tqdm(files):\n",
    "    df = pd.read_csv(os.path.join(csv_dir, file))\n",
    "    df.drop(columns=[\"definition\", \"clue_number\",\"puzzle_date\",\"puzzle_name\",\"source_url\",\"source\"], inplace=True)\n",
    "    df.dropna(how=\"any\", ignore_index=True, inplace=True)\n",
    "    \n",
    "    a_chars.update(set(''.join(df[\"answer\"].astype(str))))\n",
    "    q_chars.update(set(''.join(df[\"clue\"].astype(str))))\n",
    "\n",
    "    for char in a_chars:\n",
    "        a_char_counts[char] += df[\"answer\"].str.contains(re.escape(char)).sum()\n",
    "        \n",
    "    for char in q_chars:\n",
    "        q_char_counts[char] += df[\"clue\"].str.contains(re.escape(char)).sum()"
   ],
   "id": "af3f776d19e7a8d3",
   "outputs": [
    {
     "name": "stderr",
     "output_type": "stream",
     "text": [
      "100%|██████████| 664/664 [00:27<00:00, 23.75it/s]\n"
     ]
    }
   ],
   "execution_count": 6
  },
  {
   "metadata": {
    "ExecuteTime": {
     "end_time": "2024-11-05T22:59:40.401640Z",
     "start_time": "2024-11-05T22:59:40.393075Z"
    }
   },
   "cell_type": "code",
   "source": [
    "a_char_counts_df = pd.DataFrame.from_dict(a_char_counts, orient='index', columns=['Count']).reset_index()\n",
    "q_char_counts_df = pd.DataFrame.from_dict(q_char_counts, orient='index', columns=['Count']).reset_index()\n",
    "a_char_counts_df = a_char_counts_df.rename(columns={'index': 'Character'})\n",
    "q_char_counts_df = q_char_counts_df.rename(columns={'index': 'Character'})\n",
    "a_char_counts_df.to_csv(\"char_counts_a.csv\", index=False, quoting=csv.QUOTE_ALL)\n",
    "q_char_counts_df.to_csv(\"char_counts_q.csv\", index=False, quoting=csv.QUOTE_ALL)"
   ],
   "id": "8806566d6c10cb5c",
   "outputs": [],
   "execution_count": 7
  },
  {
   "metadata": {
    "ExecuteTime": {
     "end_time": "2024-11-05T23:44:23.847469Z",
     "start_time": "2024-11-05T23:44:20.648804Z"
    }
   },
   "cell_type": "code",
   "source": [
    "valid = []\n",
    "for file in tqdm(files):\n",
    "    df = pd.read_csv(os.path.join(csv_dir, file))\n",
    "    df.drop(columns=[\"definition\", \"clue_number\",\"puzzle_date\",\"puzzle_name\",\"source_url\",\"source\"], inplace=True)\n",
    "    df.dropna(how=\"any\", ignore_index=True, inplace=True)\n",
    "\n",
    "    df = df[df[\"answer\"].str.match(r\"^[A-Z]+$\")]\n",
    "    df = df[df[\"clue\"].str.match(r\"^[a-zA-Z0-9\\s\\(\\),\\.\\?'‘’“”:\\-!]+$\")]\n",
    "    df = df[df['clue'].str.len() <= 96]\n",
    "    df = df[df['answer'].str.len() <= 32]\n",
    "    valid.append(df.copy())\n",
    "\n",
    "df = pd.concat(valid, ignore_index=True)\n",
    "# df.sort_values(by=['rowid'], ascending=True, inplace=True)\n",
    "df.drop(columns=['rowid'], inplace=True)\n",
    "df = df.sample(frac=1).reset_index(drop=True)\n",
    "\n",
    "test_df = df.iloc[:50_000]\n",
    "eval_df = df.iloc[50_000:100_000]\n",
    "train_df = df.iloc[100_000:]\n",
    "train_df.to_csv(\"../train.csv\", index=False, quoting=csv.QUOTE_ALL)\n",
    "eval_df.to_csv(\"../eval.csv\", index=False, quoting=csv.QUOTE_ALL)\n",
    "test_df.to_csv(\"../test.csv\", index=False, quoting=csv.QUOTE_ALL)"
   ],
   "id": "470a3a74be2aacaf",
   "outputs": [
    {
     "name": "stderr",
     "output_type": "stream",
     "text": [
      "100%|██████████| 664/664 [00:02<00:00, 256.47it/s]\n"
     ]
    }
   ],
   "execution_count": 17
  },
  {
   "metadata": {},
   "cell_type": "code",
   "source": [
    "%matplotlib inline\n",
    "lengths = df[\"clue\"].str.len().tolist()\n",
    "from collections import Counter\n",
    "counter = Counter(lengths)\n",
    "\n",
    "plt.bar(counter.keys(), counter.values())\n",
    "plt.show()"
   ],
   "id": "a7a145efc08659e7",
   "outputs": [],
   "execution_count": null
  }
 ],
 "metadata": {
  "kernelspec": {
   "display_name": "Python 3",
   "language": "python",
   "name": "python3"
  },
  "language_info": {
   "codemirror_mode": {
    "name": "ipython",
    "version": 2
   },
   "file_extension": ".py",
   "mimetype": "text/x-python",
   "name": "python",
   "nbconvert_exporter": "python",
   "pygments_lexer": "ipython2",
   "version": "2.7.6"
  }
 },
 "nbformat": 4,
 "nbformat_minor": 5
}
